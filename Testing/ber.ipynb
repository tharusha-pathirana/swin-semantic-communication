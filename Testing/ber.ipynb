{
 "cells": [
  {
   "cell_type": "code",
   "execution_count": 62,
   "metadata": {},
   "outputs": [],
   "source": [
    "from PIL import Image\n",
    "import numpy as np\n",
    "import cv2\n",
    "import random\n",
    "from skimage.metrics import peak_signal_noise_ratio as psnr\n",
    "\n",
    "\n",
    "def calculate_ber(bin_file1, bin_file2):\n",
    "    with open(bin_file1, 'rb') as file1, open(bin_file2, 'rb') as file2:\n",
    "        data1 = file1.read()\n",
    "        data2 = file2.read()\n",
    "    \n",
    "    # Calculate the number of bit errors\n",
    "    bit_errors = sum(bin(int(byte1) ^ int(byte2)).count('1') for byte1, byte2 in zip(data1, data2))\n",
    "    \n",
    "    # Calculate the bit error rate\n",
    "    ber = bit_errors / (8 * len(data1))\n",
    "    return ber, bit_errors, len(data1)*8\n",
    "\n",
    "\n",
    "\n",
    "def compress_image(input_path, output_path, quality=85):\n",
    "    # Open the image\n",
    "    img = Image.open(input_path)\n",
    "    \n",
    "    # Convert image to RGB (if not already in RGB mode)\n",
    "    if img.mode != \"RGB\":\n",
    "        img = img.convert(\"RGB\")\n",
    "    \n",
    "    # Save image in JPEG format with the specified quality\n",
    "    img.save(output_path, \"JPEG\", quality=quality)\n",
    "    print(f\"Compressed image saved at: {output_path}\")\n",
    "\n",
    "\n",
    "def convert_img_to_bin(input_jpg_path, output_bin_path):\n",
    "    \"\"\"\n",
    "    Convert a .jpg file to a .bin file.\n",
    "    \n",
    "    Parameters:\n",
    "        input_jpg_path (str): Path to the input .jpg file.\n",
    "        output_bin_path (str): Path to save the .bin file.\n",
    "    \"\"\"\n",
    "    try:\n",
    "        # Open the input .jpg file in binary read mode\n",
    "        with open(input_jpg_path, 'rb') as jpg_file:\n",
    "            # Read the binary content\n",
    "            jpg_data = jpg_file.read()\n",
    "        \n",
    "        # Open the output .bin file in binary write mode\n",
    "        with open(output_bin_path, 'wb') as bin_file:\n",
    "            # Write the binary content to the .bin file\n",
    "            bin_file.write(jpg_data)\n",
    "        \n",
    "        print(f\"File successfully converted to .bin format and saved at {output_bin_path}.\")\n",
    "    except Exception as e:\n",
    "        print(f\"An error occurred: {e}\")\n",
    "\n",
    "\n",
    "def convert_bin_to_img(input_bin_path, output_jpg_path):\n",
    "    \"\"\"\n",
    "    Convert a .bin file back to a .jpg file.\n",
    "    \n",
    "    Parameters:\n",
    "        input_bin_path (str): Path to the input .bin file.\n",
    "        output_jpg_path (str): Path to save the .jpg file.\n",
    "    \"\"\"\n",
    "    try:\n",
    "        # Open the input .bin file in binary read mode\n",
    "        with open(input_bin_path, 'rb') as bin_file:\n",
    "            # Read the binary content\n",
    "            binary_data = bin_file.read()\n",
    "        \n",
    "        # Open the output .jpg file in binary write mode\n",
    "        with open(output_jpg_path, 'wb') as jpg_file:\n",
    "            # Write the binary content to the .jpg file\n",
    "            jpg_file.write(binary_data)\n",
    "        \n",
    "        print(f\"File successfully converted back to .jpg format and saved at {output_jpg_path}.\")\n",
    "    except Exception as e:\n",
    "        print(f\"An error occurred: {e}\")\n",
    "\n",
    "\n",
    "\n",
    "# Function to introduce random bit errors to the binary file\n",
    "def introduce_bit_errors(binary_file_path, output_binary_file_path, ber=0.2):\n",
    "    with open(binary_file_path, 'rb') as binary_file:\n",
    "        binary_data = bytearray(binary_file.read())\n",
    "\n",
    "    for i in range(len(binary_data)):\n",
    "        for bit in range(8):  # Each byte has 8 bits\n",
    "            if random.random() < ber:  # With probability equal to ber\n",
    "                binary_data[i] ^= (1 << bit)  # Flip the bit\n",
    "\n",
    "    with open(output_binary_file_path, 'wb') as output_file:\n",
    "        output_file.write(binary_data)\n",
    "\n",
    "\n",
    "def calc_psnr(image_path1, image_path2):\n",
    "    \"\"\"\n",
    "    Calculate the PSNR between two images.\n",
    "    \n",
    "    Parameters:\n",
    "        image_path1 (str): Path to the first image.\n",
    "        image_path2 (str): Path to the second image.\n",
    "    \n",
    "    Returns:\n",
    "        float: PSNR value in dB.\n",
    "    \"\"\"\n",
    "    # Load the two images\n",
    "    image1 = cv2.imread(image_path1)\n",
    "    image2 = cv2.imread(image_path2)\n",
    "    \n",
    "    # Check if images are loaded successfully\n",
    "    if image1 is None or image2 is None:\n",
    "        raise ValueError(\"One or both image paths are invalid or the images could not be loaded.\")\n",
    "    \n",
    "    # Ensure the images have the same dimensions\n",
    "    if image1.shape != image2.shape:\n",
    "        raise ValueError(\"Images must have the same dimensions to calculate PSNR.\")\n",
    "    \n",
    "    # Calculate PSNR using skimage\n",
    "    psnr_value = psnr(image1, image2, data_range=255)\n",
    "    return psnr_value\n",
    "\n"
   ]
  },
  {
   "cell_type": "code",
   "execution_count": 64,
   "metadata": {},
   "outputs": [
    {
     "name": "stdout",
     "output_type": "stream",
     "text": [
      "Compressed image saved at: Compressed_Kodim5_quality30.jpg\n",
      "File successfully converted to .bin format and saved at compressed_Kodim5.bin.\n",
      "File successfully converted back to .jpg format and saved at reconstructed_kodim5.jpg.\n"
     ]
    },
    {
     "data": {
      "text/plain": [
       "5.0353710360939505"
      ]
     },
     "execution_count": 64,
     "metadata": {},
     "output_type": "execute_result"
    }
   ],
   "source": [
    "compress_image('kodim05.png', 'compressed_kodim5_quality30.jpg', quality=30)\n",
    "convert_img_to_bin('compressed_kodim5_quality30.jpg', 'compressed_kodim5.bin')\n",
    "introduce_bit_errors('compressed_kodim5.bin', 'corrupted_kodim5.bin', ber=0.0001)\n",
    "convert_bin_to_img('corrupted_kodim5.bin', 'reconstructed_kodim5.jpg')\n",
    "calc_psnr('kodim05.png', 'reconstructed_kodim5.jpg')"
   ]
  },
  {
   "cell_type": "code",
   "execution_count": 75,
   "metadata": {},
   "outputs": [],
   "source": [
    "introduce_bit_errors('encoded_feature_rayleigh_image24.bin', 'corrupted_features_rayleigh_image24.bin', ber=0.05)\n"
   ]
  },
  {
   "cell_type": "code",
   "execution_count": 73,
   "metadata": {},
   "outputs": [
    {
     "name": "stdout",
     "output_type": "stream",
     "text": [
      "Bit Error Rate: 9.90e-03\n",
      "Number of bit errors: 3892\n",
      "Total number of bits: 393216\n"
     ]
    }
   ],
   "source": [
    "ber, errors, bits = calculate_ber('encoded_feature_rayleigh_image24.bin', 'corrupted_feature_rayleigh_image24.bin')\n",
    "print(f\"Bit Error Rate: {ber:.2e}\")\n",
    "print(f\"Number of bit errors: {errors}\")\n",
    "print(f\"Total number of bits: {bits}\")"
   ]
  },
  {
   "cell_type": "code",
   "execution_count": 76,
   "metadata": {},
   "outputs": [
    {
     "data": {
      "text/plain": [
       "27.495655188889963"
      ]
     },
     "execution_count": 76,
     "metadata": {},
     "output_type": "execute_result"
    }
   ],
   "source": [
    "calc_psnr('kodim05.png', 'reconstructed_original_example.jpg')"
   ]
  },
  {
   "cell_type": "code",
   "execution_count": 81,
   "metadata": {},
   "outputs": [
    {
     "name": "stdout",
     "output_type": "stream",
     "text": [
      "File successfully converted to .bin format and saved at compressed_kodim5_png.bin.\n",
      "File successfully converted back to .jpg format and saved at reconstructed_kodim5_png.png.\n"
     ]
    }
   ],
   "source": [
    "convert_img_to_bin('kodim05.png', 'compressed_kodim5_png.bin')\n",
    "introduce_bit_errors('compressed_kodim5_png.bin', 'corrupted_kodim5_png.bin', ber=0.000001)\n",
    "convert_bin_to_img('corrupted_kodim5_png.bin', 'reconstructed_kodim5_png.png')"
   ]
  },
  {
   "cell_type": "code",
   "execution_count": null,
   "metadata": {},
   "outputs": [],
   "source": []
  }
 ],
 "metadata": {
  "kernelspec": {
   "display_name": "cv",
   "language": "python",
   "name": "python3"
  },
  "language_info": {
   "codemirror_mode": {
    "name": "ipython",
    "version": 3
   },
   "file_extension": ".py",
   "mimetype": "text/x-python",
   "name": "python",
   "nbconvert_exporter": "python",
   "pygments_lexer": "ipython3",
   "version": "3.11.4"
  }
 },
 "nbformat": 4,
 "nbformat_minor": 2
}
